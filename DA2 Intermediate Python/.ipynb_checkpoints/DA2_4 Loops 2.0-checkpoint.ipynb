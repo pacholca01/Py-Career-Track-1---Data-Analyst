{
 "cells": [
  {
   "cell_type": "markdown",
   "id": "aa66c3d0",
   "metadata": {},
   "source": [
    "#### Basic while loop\n",
    "Below you can find the example from the video where the error variable, initially equal to 50.0, is divided by 4 and printed out on every run:\n",
    "\n",
    "error = 50.0\n",
    "while error > 1 :\n",
    "    error = error / 4\n",
    "    print(error)\n",
    "This example will come in handy, because it's time to build a while loop yourself! We're going to code a while loop that implements a very basic control system for an inverted pendulum. If there's an offset from standing perfectly straight, the while loop will incrementally fix this offset.\n",
    "\n",
    "Note that if your while loop takes too long to run, you might have made a mistake. In particular, remember to indent the contents of the loop using four spaces or auto-indentation!\n"
   ]
  },
  {
   "cell_type": "code",
   "execution_count": 3,
   "id": "e50d9074",
   "metadata": {},
   "outputs": [
    {
     "name": "stdout",
     "output_type": "stream",
     "text": [
      "correcting...7\n",
      "correcting...6\n",
      "correcting...5\n",
      "correcting...4\n",
      "correcting...3\n",
      "correcting...2\n",
      "correcting...1\n",
      "correcting...0\n"
     ]
    }
   ],
   "source": [
    "#initialize offset\n",
    "offset = 8\n",
    "\n",
    "# code while loop\n",
    "while offset > 0 :\n",
    "    offset -= 1\n",
    "    print('correcting...' + str(offset))"
   ]
  },
  {
   "cell_type": "markdown",
   "id": "48b067c7",
   "metadata": {},
   "source": [
    "#### Add conditionals\n",
    "The while loop that corrects the offset is a good start, but what if offset is negative? You can try to run the following code where offset is initialized to -6:\n",
    "```\n",
    "# Initialize offset\n",
    "offset = -6\n",
    "\n",
    "# Code the while loop\n",
    "while offset != 0 :\n",
    "    print(\"correcting...\")\n",
    "    offset = offset - 1\n",
    "    print(offset)\n",
    "```\n",
    "but your session will be disconnected. The while loop will never stop running, because offset will be further decreased on every run. offset != 0 will never become False and the while loop continues forever.\n",
    "\n",
    "Fix things by putting an if-else statement inside the while loop. If your code is still taking too long to run, you probably made a mistake!\n"
   ]
  },
  {
   "cell_type": "code",
   "execution_count": 7,
   "id": "1ce73c67",
   "metadata": {},
   "outputs": [
    {
     "name": "stdout",
     "output_type": "stream",
     "text": [
      "correcting...-5\n",
      "correcting...-4\n",
      "correcting...-3\n",
      "correcting...-2\n",
      "correcting...-1\n",
      "correcting...0\n"
     ]
    }
   ],
   "source": [
    "offset = -6\n",
    "while offset != 0 :\n",
    "    if offset > 0 :\n",
    "        offset -= 1\n",
    "    elif offset < 0 :\n",
    "        offset += 1\n",
    "    print('correcting...' + str(offset))"
   ]
  },
  {
   "cell_type": "markdown",
   "id": "ace4daf3",
   "metadata": {},
   "source": [
    "#### Loop over a list\n",
    "Have another look at the for loop that Hugo showed in the video:\n",
    "```\n",
    "fam = [1.73, 1.68, 1.71, 1.89]\n",
    "for height in fam : \n",
    "    print(height)\n",
    "```\n",
    "As usual, you simply have to indent the code with 4 spaces to tell Python which code should be executed in the for loop.\n",
    "\n",
    "The areas variable, containing the area of different rooms in your house, is already defined."
   ]
  },
  {
   "cell_type": "code",
   "execution_count": 8,
   "id": "76547d3a",
   "metadata": {},
   "outputs": [
    {
     "name": "stdout",
     "output_type": "stream",
     "text": [
      "11.25\n",
      "18.0\n",
      "20.0\n",
      "10.75\n",
      "9.5\n"
     ]
    }
   ],
   "source": [
    "# areas list\n",
    "areas = [11.25, 18.0, 20.0, 10.75, 9.50]\n",
    "\n",
    "# Code the for loop\n",
    "for v in areas :\n",
    "    print(v)"
   ]
  },
  {
   "cell_type": "markdown",
   "id": "c40da9f6",
   "metadata": {},
   "source": [
    "#### Indexes and values (1)\n",
    "Using a for loop to iterate over a list only gives you access to every list element in each run, one after the other. If you also want to access the index information, so where the list element you're iterating over is located, you can use enumerate().\n",
    "\n",
    "As an example, have a look at how the for loop from the video was converted:\n",
    "```\n",
    "fam = [1.73, 1.68, 1.71, 1.89]\n",
    "for index, height in enumerate(fam) :\n",
    "    print(\"person \" + str(index) + \": \" + str(height))\n",
    "```\n",
    "Instructions\n",
    "Adapt the for loop in the sample code to use enumerate() and use two iterator variables.\n",
    "Update the print() statement so that on each run, a line of the form \"room x: y\" should be printed, where x is the index of the list element and y is the actual list element, i.e. the area. Make sure to print out this exact string, with the correct spacing."
   ]
  },
  {
   "cell_type": "code",
   "execution_count": 10,
   "id": "c312cd01",
   "metadata": {},
   "outputs": [
    {
     "name": "stdout",
     "output_type": "stream",
     "text": [
      "0 has area of 11.25\n",
      "1 has area of 18.0\n",
      "2 has area of 20.0\n",
      "3 has area of 10.75\n",
      "4 has area of 9.5\n"
     ]
    }
   ],
   "source": [
    "# areas list\n",
    "areas = [11.25, 18.0, 20.0, 10.75, 9.50]\n",
    "\n",
    "# Change for loop to use enumerate() and update print()\n",
    "for i, v in enumerate(areas) :\n",
    "    print(str(i) + ' has area of ' + str(v))"
   ]
  },
  {
   "cell_type": "markdown",
   "id": "c94e33d3",
   "metadata": {},
   "source": [
    "#### Indexes and values (2)\n",
    "For non-programmer folks, room 0: 11.25 is strange. Wouldn't it be better if the count started at 1?\n",
    "\n",
    "Instructions\n",
    "Adapt the print() function in the for loop so that the first printout becomes \"room 1: 11.25\", the second one \"room 2: 18.0\" and so on."
   ]
  },
  {
   "cell_type": "code",
   "execution_count": 11,
   "id": "7dbb3963",
   "metadata": {},
   "outputs": [
    {
     "name": "stdout",
     "output_type": "stream",
     "text": [
      "room 1 has area of 11.25\n",
      "room 2 has area of 18.0\n",
      "room 3 has area of 20.0\n",
      "room 4 has area of 10.75\n",
      "room 5 has area of 9.5\n"
     ]
    }
   ],
   "source": [
    "# areas list\n",
    "areas = [11.25, 18.0, 20.0, 10.75, 9.50]\n",
    "\n",
    "# Code the for loop\n",
    "for i, v in enumerate(areas) :\n",
    "    print('room ' + str(i+1) + ' has area of ' + str(v))"
   ]
  },
  {
   "cell_type": "markdown",
   "id": "d7535413",
   "metadata": {},
   "source": [
    "#### Loop over list of lists\n",
    "Remember the house variable from the Intro to Python course? Have a look at its definition in the script. It's basically a list of lists, where each sublist contains the name and area of a room in your house.\n",
    "\n",
    "It's up to you to build a for loop from scratch this time!\n",
    "\n",
    "Instructions\n",
    "Write a for loop that goes through each sublist of house and prints out the x is y sqm, where x is the name of the room and y is the area of the room."
   ]
  },
  {
   "cell_type": "code",
   "execution_count": 18,
   "id": "00b365dd",
   "metadata": {},
   "outputs": [
    {
     "name": "stdout",
     "output_type": "stream",
     "text": [
      "the hallway has an area of 11.25\n",
      "the kitchen has an area of 18.0\n",
      "the living room has an area of 20.0\n",
      "the bedroom has an area of 10.75\n",
      "the bathroom has an area of 9.5\n"
     ]
    }
   ],
   "source": [
    "# house list of lists\n",
    "house = [[\"hallway\", 11.25], \n",
    "         [\"kitchen\", 18.0], \n",
    "         [\"living room\", 20.0], \n",
    "         [\"bedroom\", 10.75], \n",
    "         [\"bathroom\", 9.50]]\n",
    "         \n",
    "# Build a for loop from scratch\n",
    "for i in house :\n",
    "    print('the ' + i[0] + ' has an area of ' + str(i[1]))"
   ]
  },
  {
   "cell_type": "markdown",
   "id": "f0b2f4a3",
   "metadata": {},
   "source": [
    "#### Loop over dictionary\n",
    "In Python 3, you need the items() method to loop over a dictionary:\n",
    "```\n",
    "world = { \"afghanistan\":30.55, \n",
    "          \"albania\":2.77,\n",
    "          \"algeria\":39.21 }\n",
    "\n",
    "for key, value in world.items() :\n",
    "    print(key + \" -- \" + str(value))\n",
    "```\n",
    "Remember the europe dictionary that contained the names of some European countries as key and their capitals as corresponding value? Go ahead and write a loop to iterate over it!\n",
    "\n",
    "Instructions\n",
    "Write a for loop that goes through each key:value pair of europe. On each iteration, \"the capital of x is y\" should be printed out, where x is the key and y is the value of the pair.\n",
    "\n",
    "\n"
   ]
  },
  {
   "cell_type": "code",
   "execution_count": 20,
   "id": "e3c39d2c",
   "metadata": {},
   "outputs": [
    {
     "name": "stdout",
     "output_type": "stream",
     "text": [
      "the capital of spain is madrid\n",
      "the capital of france is paris\n",
      "the capital of germany is berlin\n",
      "the capital of norway is oslo\n",
      "the capital of italy is rome\n",
      "the capital of poland is warsaw\n",
      "the capital of austria is vienna\n"
     ]
    }
   ],
   "source": [
    "# Definition of dictionary\n",
    "europe = {'spain':'madrid', 'france':'paris', 'germany':'berlin',\n",
    "          'norway':'oslo', 'italy':'rome', 'poland':'warsaw', 'austria':'vienna' }\n",
    "          \n",
    "# Iterate over europe\n",
    "for k, v in europe.items() :\n",
    "    print(f'the capital of {k} is {v}')"
   ]
  },
  {
   "cell_type": "markdown",
   "id": "33fd4c19",
   "metadata": {},
   "source": [
    "#### Loop over NumPy array\n",
    "If you're dealing with a 1D NumPy array, looping over all elements can be as simple as:\n",
    "```\n",
    "for x in my_array :\n",
    "    ...\n",
    "```\n",
    "If you're dealing with a 2D NumPy array, it's more complicated. A 2D array is built up of multiple 1D arrays. To explicitly iterate over all separate elements of a multi-dimensional array, you'll need this syntax:\n",
    "```\n",
    "for x in np.nditer(my_array) :\n",
    "    ...\n",
    "```\n",
    "Two NumPy arrays that you might recognize from the intro course are available in your Python session: np_height, a NumPy array containing the heights of Major League Baseball players, and np_baseball, a 2D NumPy array that contains both the heights (first column) and weights (second column) of those players.\n"
   ]
  },
  {
   "cell_type": "code",
   "execution_count": 29,
   "id": "a7e303da",
   "metadata": {},
   "outputs": [
    {
     "name": "stdout",
     "output_type": "stream",
     "text": [
      "    0\n",
      "0  74\n",
      "1  74\n",
      "2  72\n",
      "3  72\n",
      "4  73\n"
     ]
    }
   ],
   "source": [
    "import numpy as np\n",
    "import pandas as pd\n",
    "\n",
    "fn = 'np_height.csv'\n",
    "pd_height = pd.read_csv(fn, index_col=0)\n",
    "\n",
    "print(pd_height.head())\n",
    "\n",
    "# convert df to np array\n",
    "np_height = pd_height['0'].to_numpy()"
   ]
  },
  {
   "cell_type": "code",
   "execution_count": 33,
   "id": "9b5eb541",
   "metadata": {},
   "outputs": [
    {
     "name": "stdout",
     "output_type": "stream",
     "text": [
      "74 inches\n",
      "74 inches\n",
      "72 inches\n",
      "72 inches\n",
      "73 inches\n"
     ]
    }
   ],
   "source": [
    "# For loop over np_height head\n",
    "for v in np_height[:5] :\n",
    "    print(f'{v} inches')"
   ]
  },
  {
   "cell_type": "markdown",
   "id": "9bcb5612",
   "metadata": {},
   "source": [
    "#### Loop over DataFrame (1)\n",
    "Iterating over a Pandas DataFrame is typically done with the iterrows() method. Used in a for loop, every observation is iterated over and on every iteration the row label and actual row contents are available:\n",
    "```\n",
    "for lab, row in brics.iterrows() :\n",
    "    ...\n",
    "```\n",
    "In this and the following exercises you will be working on the cars DataFrame. It contains information on the cars per capita and whether people drive right or left for seven countries in the world.\n",
    "\n",
    "Instructions\n",
    "Write a for loop that iterates over the rows of cars and on each iteration perform two print() calls: one to print out the row label and one to print out all of the rows contents."
   ]
  },
  {
   "cell_type": "code",
   "execution_count": 35,
   "id": "ad2e5a2a",
   "metadata": {},
   "outputs": [
    {
     "name": "stdout",
     "output_type": "stream",
     "text": [
      "     cars_per_cap        country  drives_right\n",
      "US            809  United States          True\n",
      "AUS           731      Australia         False\n",
      "JPN           588          Japan         False\n",
      "IN             18          India         False\n",
      "RU            200         Russia          True\n"
     ]
    }
   ],
   "source": [
    "# Import cars data\n",
    "cars = pd.read_csv('cars.csv', index_col = 0)\n",
    "\n",
    "print(cars.head())"
   ]
  },
  {
   "cell_type": "code",
   "execution_count": 43,
   "id": "243dc34d",
   "metadata": {},
   "outputs": [
    {
     "name": "stdout",
     "output_type": "stream",
     "text": [
      "US\n",
      "cars_per_cap              809\n",
      "country         United States\n",
      "drives_right             True\n",
      "Name: US, dtype: object\n",
      "\n",
      "AUS\n",
      "cars_per_cap          731\n",
      "country         Australia\n",
      "drives_right        False\n",
      "Name: AUS, dtype: object\n",
      "\n",
      "Cars made in United States have a cars per capita of 809.\n",
      "Cars made in Australia have a cars per capita of 731.\n"
     ]
    }
   ],
   "source": [
    "# Iterate over rows of cars\n",
    "for i, r in cars.head(2).iterrows() :\n",
    "    print(i)\n",
    "    print(r)\n",
    "    print()\n",
    "    \n",
    "# Iterate over rows of cars\n",
    "for i, r in cars.head(2).iterrows() :\n",
    "    print(f'Cars made in {r[1]} have a cars per capita of {r[0]}.')"
   ]
  },
  {
   "cell_type": "code",
   "execution_count": 46,
   "id": "551c5328",
   "metadata": {},
   "outputs": [
    {
     "name": "stdout",
     "output_type": "stream",
     "text": [
      "Cars made in the United States have a cars per capita of 809.\n",
      "Cars made in Australia have a cars per capita of 731.\n",
      "Cars made in Japan have a cars per capita of 588.\n",
      "Cars made in India have a cars per capita of 18.\n",
      "Cars made in Russia have a cars per capita of 200.\n",
      "Cars made in Morocco have a cars per capita of 70.\n",
      "Cars made in Egypt have a cars per capita of 45.\n"
     ]
    }
   ],
   "source": [
    "# Iterate over rows of cars\n",
    "for i, r in cars.iterrows() :\n",
    "    print(f'Cars made in %s{r[1]} have a cars per capita of {r[0]}.' %('the ' if r[1] == 'United States' else ''))\n"
   ]
  },
  {
   "cell_type": "markdown",
   "id": "3a329e2c",
   "metadata": {},
   "source": [
    "#### Add column (1)\n",
    "In the video, Hugo showed you how to add the length of the country names of the brics DataFrame in a new column:\n",
    "```\n",
    "for lab, row in brics.iterrows() :\n",
    "    brics.loc[lab, \"name_length\"] = len(row[\"country\"])\n",
    "```\n",
    "You can do similar things on the cars DataFrame.\n",
    "\n",
    "Instructions\n",
    "Use a for loop to add a new column, named COUNTRY, that contains a uppercase version of the country names in the \"country\" column. You can use the string method upper() for this.\n",
    "To see if your code worked, print out cars. Don't indent this code, so that it's not part of the for loop."
   ]
  },
  {
   "cell_type": "code",
   "execution_count": 47,
   "id": "8c353975",
   "metadata": {},
   "outputs": [
    {
     "name": "stdout",
     "output_type": "stream",
     "text": [
      "     cars_per_cap        country  drives_right   CountryUpper\n",
      "US            809  United States          True  UNITED STATES\n",
      "AUS           731      Australia         False      AUSTRALIA\n",
      "JPN           588          Japan         False          JAPAN\n",
      "IN             18          India         False          INDIA\n",
      "RU            200         Russia          True         RUSSIA\n"
     ]
    }
   ],
   "source": [
    "# Code for loop that adds COUNTRY column\n",
    "for i, r in cars.iterrows() :\n",
    "    cars.loc[i,'CountryUpper'] = r['country'].upper()\n",
    "    \n",
    "print(cars.head())"
   ]
  }
 ],
 "metadata": {
  "kernelspec": {
   "display_name": "Python 3 (ipykernel)",
   "language": "python",
   "name": "python3"
  },
  "language_info": {
   "codemirror_mode": {
    "name": "ipython",
    "version": 3
   },
   "file_extension": ".py",
   "mimetype": "text/x-python",
   "name": "python",
   "nbconvert_exporter": "python",
   "pygments_lexer": "ipython3",
   "version": "3.10.4"
  }
 },
 "nbformat": 4,
 "nbformat_minor": 5
}
