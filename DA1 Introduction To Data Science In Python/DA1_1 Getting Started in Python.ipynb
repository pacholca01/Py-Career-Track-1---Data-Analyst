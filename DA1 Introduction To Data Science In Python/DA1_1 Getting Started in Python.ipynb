{
 "cells": [
  {
   "cell_type": "markdown",
   "id": "da4b3c21",
   "metadata": {},
   "source": [
    "#### Introduction to Data Science in Python\n",
    "\n",
    "##### 1 Getting Started in Python\n",
    "\n",
    "Importing Python modules\n",
    "Modules (sometimes called packages or libraries) help group together related sets of tools in Python. In this exercise, we'll examine two modules that are frequently used by Data Scientists:\n",
    "\n",
    "statsmodels: used in machine learning; usually aliased as sm\n",
    "seaborn: a visualization library; usually aliased as sns\n",
    "Note that each module has a standard alias, which allows you to access the tools inside of the module without typing as many characters. For example, aliasing lets us shorten seaborn.scatterplot() to sns.scatterplot().\n",
    "\n"
   ]
  },
  {
   "cell_type": "code",
   "execution_count": 7,
   "id": "bf810755",
   "metadata": {},
   "outputs": [],
   "source": [
    "# Use an import statement to import statsmodels\n",
    "import statsmodels as sm\n",
    "import seaborn as sns\n",
    "import numpy as np\n",
    "#!pip3 install statsmodels\n",
    "#!pip install --upgrade pip"
   ]
  },
  {
   "cell_type": "code",
   "execution_count": 9,
   "id": "62bd52bc",
   "metadata": {},
   "outputs": [
    {
     "name": "stdout",
     "output_type": "stream",
     "text": [
      "4.0\n",
      "Mr. Squeaky\n",
      "DataCamp\n"
     ]
    }
   ],
   "source": [
    "# Fill in Bayes' age (4.0)\n",
    "bayes_age = 4.0\n",
    "\n",
    "# Display the variable bayes_age\n",
    "print(bayes_age)\n",
    "\n",
    "# Bayes' favorite toy\n",
    "favorite_toy = 'Mr. Squeaky'\n",
    "\n",
    "# Bayes' owner\n",
    "owner = 'DataCamp'\n",
    "\n",
    "# Display variables\n",
    "print(favorite_toy)\n",
    "print(owner)"
   ]
  },
  {
   "cell_type": "code",
   "execution_count": 12,
   "id": "71d9758f",
   "metadata": {},
   "outputs": [
    {
     "name": "stdout",
     "output_type": "stream",
     "text": [
      "   officer  avg_hours_worked  std_hours_worked\n",
      "0  Deshaun                45                 3\n",
      "1  Mengfei                33                 9\n",
      "2   Aditya                42                 5\n"
     ]
    }
   ],
   "source": [
    "import pandas as pd\n",
    "\n",
    "filename = 'hours.csv'\n",
    "hours = pd.read_csv(filename, index_col=0)\n",
    "\n",
    "print(hours)\n"
   ]
  },
  {
   "cell_type": "code",
   "execution_count": 13,
   "id": "2c06637a",
   "metadata": {},
   "outputs": [
    {
     "data": {
      "text/plain": [
       "<BarContainer object of 3 artists>"
      ]
     },
     "execution_count": 13,
     "metadata": {},
     "output_type": "execute_result"
    },
    {
     "data": {
      "image/png": "[encoded data removed]",
      "text/plain": [
       "<Figure size 432x288 with 1 Axes>"
      ]
     },
     "metadata": {
      "needs_background": "light"
     },
     "output_type": "display_data"
    }
   ],
   "source": [
    "from matplotlib import pyplot as plt\n",
    "\n",
    "plt.bar(hours.officer, hours.avg_hours_worked)"
   ]
  },
  {
   "cell_type": "code",
   "execution_count": 17,
   "id": "3eea6164",
   "metadata": {},
   "outputs": [
    {
     "data": {
      "text/plain": [
       "<BarContainer object of 3 artists>"
      ]
     },
     "execution_count": 17,
     "metadata": {},
     "output_type": "execute_result"
    },
    {
     "data": {
      "image/png": "[encoded data removed]",
      "text/plain": [
       "<Figure size 432x288 with 1 Axes>"
      ]
     },
     "metadata": {
      "needs_background": "light"
     },
     "output_type": "display_data"
    }
   ],
   "source": [
    "plt.bar(hours.officer, hours.avg_hours_worked, yerr=hours.std_hours_worked)"
   ]
  },
  {
   "cell_type": "code",
   "execution_count": 19,
   "id": "6553f9f8",
   "metadata": {},
   "outputs": [
    {
     "name": "stdout",
     "output_type": "stream",
     "text": [
      "   officer  desk_work  field_work\n",
      "0  Deshaun         25          20\n",
      "1  Mengfei         20          13\n",
      "2   Aditya         12          30\n"
     ]
    }
   ],
   "source": [
    "filename = 'hours2.csv'\n",
    "\n",
    "hours = pd.read_csv(filename, index_col=0)\n",
    "\n",
    "print(hours)"
   ]
  },
  {
   "cell_type": "code",
   "execution_count": 25,
   "id": "327d8655",
   "metadata": {},
   "outputs": [
    {
     "data": {
      "image/png": "[encoded data removed]",
      "text/plain": [
       "<Figure size 432x288 with 1 Axes>"
      ]
     },
     "metadata": {
      "needs_background": "light"
     },
     "output_type": "display_data"
    }
   ],
   "source": [
    "x = hours.officer\n",
    "y = hours.desk_work\n",
    "y2 = hours.field_work\n",
    "plt.bar(x, y, label = 'Desk Work')\n",
    "plt.show()"
   ]
  },
  {
   "cell_type": "code",
   "execution_count": 28,
   "id": "a7c90d0f",
   "metadata": {},
   "outputs": [
    {
     "data": {
      "text/plain": [
       "<matplotlib.legend.Legend at 0x1331f0eb0>"
      ]
     },
     "execution_count": 28,
     "metadata": {},
     "output_type": "execute_result"
    },
    {
     "data": {
      "image/png": "[encoded data removed]",
      "text/plain": [
       "<Figure size 432x288 with 1 Axes>"
      ]
     },
     "metadata": {
      "needs_background": "light"
     },
     "output_type": "display_data"
    }
   ],
   "source": [
    "plt.bar(x, y, label = 'Desk Work')\n",
    "plt.bar(x, y2, label = 'Field Work')\n",
    "plt.legend()"
   ]
  },
  {
   "cell_type": "code",
   "execution_count": 32,
   "id": "789eb3b7",
   "metadata": {},
   "outputs": [
    {
     "name": "stdout",
     "output_type": "stream",
     "text": [
      "      weight    breed\n",
      "0   9.791698      pug\n",
      "1  11.698426      pug\n",
      "2   5.988439  pitbull\n",
      "3  14.200483   poodle\n",
      "4  17.199590   poodle\n"
     ]
    }
   ],
   "source": [
    "fn = 'puppies.csv'\n",
    "puppies = pd.read_csv(fn, index_col=0)\n",
    "print(puppies.head())"
   ]
  },
  {
   "cell_type": "code",
   "execution_count": 34,
   "id": "15451d0f",
   "metadata": {},
   "outputs": [
    {
     "data": {
      "text/plain": [
       "Text(0, 0.5, 'Count of Puppies')"
      ]
     },
     "execution_count": 34,
     "metadata": {},
     "output_type": "execute_result"
    },
    {
     "data": {
      "image/png": "[encoded data removed]",
      "text/plain": [
       "<Figure size 432x288 with 1 Axes>"
      ]
     },
     "metadata": {
      "needs_background": "light"
     },
     "output_type": "display_data"
    }
   ],
   "source": [
    "plt.hist(puppies.weight)\n",
    "plt.xlabel('Wieght of Puppies')\n",
    "plt.ylabel('Count of Puppies')"
   ]
  },
  {
   "cell_type": "code",
   "execution_count": 37,
   "id": "e13ede0b",
   "metadata": {},
   "outputs": [
    {
     "data": {
      "text/plain": [
       "Text(0, 0.5, 'Count of Puppies')"
      ]
     },
     "execution_count": 37,
     "metadata": {},
     "output_type": "execute_result"
    },
    {
     "data": {
      "image/png": "[encoded data removed]",
      "text/plain": [
       "<Figure size 432x288 with 1 Axes>"
      ]
     },
     "metadata": {
      "needs_background": "light"
     },
     "output_type": "display_data"
    }
   ],
   "source": [
    "plt.hist(puppies.weight, range = (5,35))\n",
    "plt.xlabel('Wieght of Puppies(lbs)')\n",
    "plt.ylabel('Count of Puppies')"
   ]
  },
  {
   "cell_type": "markdown",
   "id": "de367f6c",
   "metadata": {},
   "source": [
    "###### Heroes with histograms\n",
    "We've identified that the kidnapper is Fred Frequentist. Now we need to know where Fred is hiding Bayes.\n",
    "\n",
    "A shoe print at the crime scene contains a specific type of gravel. Based on the distribution of gravel radii, we can determine where the kidnapper recently visited. \n",
    "\n",
    "The radii of individual gravel pieces has been loaded into the DataFrame gravel, and matplotlib has been loaded under the alias plt.\n"
   ]
  },
  {
   "cell_type": "code",
   "execution_count": 44,
   "id": "6768f53c",
   "metadata": {},
   "outputs": [
    {
     "name": "stdout",
     "output_type": "stream",
     "text": [
      "            Unnamed: 0.1  sample_id    radius\n",
      "Unnamed: 0                                   \n",
      "0                      0          0  4.947767\n",
      "1                      1          1  4.500556\n",
      "2                      2          2  5.037398\n",
      "3                      3          3  4.665550\n",
      "4                      4          4  4.997438\n",
      "            sample_id    radius\n",
      "Unnamed: 0                     \n",
      "0                   0  4.947767\n",
      "1                   1  4.500556\n",
      "2                   2  5.037398\n",
      "3                   3  4.665550\n",
      "4                   4  4.997438\n"
     ]
    },
    {
     "data": {
      "text/plain": [
       "(array([ 19.,  88., 103.,  77.,  42., 110., 185., 135.,  37.,   4.]),\n",
       " array([1.82199812, 2.30368231, 2.7853665 , 3.26705068, 3.74873487,\n",
       "        4.23041906, 4.71210324, 5.19378743, 5.67547162, 6.1571558 ,\n",
       "        6.63883999]),\n",
       " <BarContainer object of 10 artists>)"
      ]
     },
     "execution_count": 44,
     "metadata": {},
     "output_type": "execute_result"
    },
    {
     "data": {
      "image/png": "[encoded data removed]",
      "text/plain": [
       "<Figure size 432x288 with 1 Axes>"
      ]
     },
     "metadata": {
      "needs_background": "light"
     },
     "output_type": "display_data"
    }
   ],
   "source": [
    "fn = 'gravel.csv'\n",
    "gravel = pd.read_csv(fn, index_col=1)\n",
    "\n",
    "print(gravel.head())\n",
    "\n",
    "#drop one column by index\n",
    "gravel.drop(gravel.columns[[0]], axis=1, inplace=True)\n",
    "\n",
    "print(gravel.head())\n",
    "\n",
    "plt.hist(gravel.radius)"
   ]
  },
  {
   "cell_type": "code",
   "execution_count": 47,
   "id": "fb182651",
   "metadata": {},
   "outputs": [
    {
     "data": {
      "text/plain": [
       "(array([ 5., 10., 14., 38., 29., 24., 35., 35., 27., 33., 20., 13., 15.,\n",
       "        13., 16., 26., 36., 40., 56., 60., 53., 55., 52., 36., 26., 11.,\n",
       "        10.,  6.,  1.,  0.,  1.,  0.,  0.,  0.,  0.,  0.,  0.,  0.,  0.,\n",
       "         0.]),\n",
       " array([2.  , 2.15, 2.3 , 2.45, 2.6 , 2.75, 2.9 , 3.05, 3.2 , 3.35, 3.5 ,\n",
       "        3.65, 3.8 , 3.95, 4.1 , 4.25, 4.4 , 4.55, 4.7 , 4.85, 5.  , 5.15,\n",
       "        5.3 , 5.45, 5.6 , 5.75, 5.9 , 6.05, 6.2 , 6.35, 6.5 , 6.65, 6.8 ,\n",
       "        6.95, 7.1 , 7.25, 7.4 , 7.55, 7.7 , 7.85, 8.  ]),\n",
       " <BarContainer object of 40 artists>)"
      ]
     },
     "execution_count": 47,
     "metadata": {},
     "output_type": "execute_result"
    },
    {
     "data": {
      "image/png": "[encoded data removed]",
      "text/plain": [
       "<Figure size 432x288 with 1 Axes>"
      ]
     },
     "metadata": {
      "needs_background": "light"
     },
     "output_type": "display_data"
    }
   ],
   "source": [
    "# Create a histogram\n",
    "# Range is 2 to 8, with 40 bins\n",
    "plt.hist(gravel.radius, bins=40, range=(2,8))"
   ]
  },
  {
   "cell_type": "code",
   "execution_count": 49,
   "id": "f24fd2bb",
   "metadata": {},
   "outputs": [
    {
     "data": {
      "text/plain": [
       "Text(0.5, 1.0, 'Sample from Shoeprint')"
      ]
     },
     "execution_count": 49,
     "metadata": {},
     "output_type": "execute_result"
    },
    {
     "data": {
      "image/png": "[encoded data removed]",
      "text/plain": [
       "<Figure size 432x288 with 1 Axes>"
      ]
     },
     "metadata": {
      "needs_background": "light"
     },
     "output_type": "display_data"
    }
   ],
   "source": [
    "# Create a histogram\n",
    "# Normalize your histogram so that the sum of the bins adds to 1.\n",
    "plt.hist(gravel.radius, bins=40, range=(2,8), density=True)\n",
    "\n",
    "# Label plot\n",
    "plt.xlabel('Gravel Radius (mm)')\n",
    "plt.ylabel('Frequency')\n",
    "plt.title('Sample from Shoeprint')"
   ]
  }
 ],
 "metadata": {
  "kernelspec": {
   "display_name": "Python 3 (ipykernel)",
   "language": "python",
   "name": "python3"
  },
  "language_info": {
   "codemirror_mode": {
    "name": "ipython",
    "version": 3
   },
   "file_extension": ".py",
   "mimetype": "text/x-python",
   "name": "python",
   "nbconvert_exporter": "python",
   "pygments_lexer": "ipython3",
   "version": "3.10.4"
  }
 },
 "nbformat": 4,
 "nbformat_minor": 5
}
